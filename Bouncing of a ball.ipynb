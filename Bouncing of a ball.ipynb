{
 "cells": [
  {
   "cell_type": "code",
   "execution_count": null,
   "id": "b50dc6c8",
   "metadata": {},
   "outputs": [],
   "source": []
  },
  {
   "cell_type": "code",
   "execution_count": null,
   "id": "0e4c4838",
   "metadata": {},
   "outputs": [
    {
     "data": {
      "text/html": [
       "<div id=\"glowscript\" class=\"glowscript\"></div>"
      ],
      "text/plain": [
       "<IPython.core.display.HTML object>"
      ]
     },
     "metadata": {},
     "output_type": "display_data"
    },
    {
     "data": {
      "application/javascript": [
       "if (typeof Jupyter !== \"undefined\") { window.__context = { glowscript_container: $(\"#glowscript\").removeAttr(\"id\")};}else{ element.textContent = ' ';}"
      ],
      "text/plain": [
       "<IPython.core.display.Javascript object>"
      ]
     },
     "metadata": {},
     "output_type": "display_data"
    },
    {
     "data": {
      "text/html": [
       "<div id=\"glowscript\" class=\"glowscript\"></div>"
      ],
      "text/plain": [
       "<IPython.core.display.HTML object>"
      ]
     },
     "metadata": {},
     "output_type": "display_data"
    },
    {
     "data": {
      "application/javascript": [
       "if (typeof Jupyter !== \"undefined\") { window.__context = { glowscript_container: $(\"#glowscript\").removeAttr(\"id\")};}else{ element.textContent = ' ';}"
      ],
      "text/plain": [
       "<IPython.core.display.Javascript object>"
      ]
     },
     "metadata": {},
     "output_type": "display_data"
    },
    {
     "data": {
      "application/javascript": [
       "if (typeof Jupyter !== \"undefined\") {require.undef(\"nbextensions/vpython_libraries/glow.min\");}else{element.textContent = ' ';}"
      ],
      "text/plain": [
       "<IPython.core.display.Javascript object>"
      ]
     },
     "metadata": {},
     "output_type": "display_data"
    },
    {
     "data": {
      "application/javascript": [
       "if (typeof Jupyter !== \"undefined\") {require.undef(\"nbextensions/vpython_libraries/glowcomm\");}else{element.textContent = ' ';}"
      ],
      "text/plain": [
       "<IPython.core.display.Javascript object>"
      ]
     },
     "metadata": {},
     "output_type": "display_data"
    },
    {
     "data": {
      "application/javascript": [
       "if (typeof Jupyter !== \"undefined\") {require.undef(\"nbextensions/vpython_libraries/jquery-ui.custom.min\");}else{element.textContent = ' ';}"
      ],
      "text/plain": [
       "<IPython.core.display.Javascript object>"
      ]
     },
     "metadata": {},
     "output_type": "display_data"
    },
    {
     "data": {
      "application/javascript": [
       "if (typeof Jupyter !== \"undefined\") {require([\"nbextensions/vpython_libraries/glow.min\"], function(){console.log(\"GLOW LOADED\");});}else{element.textContent = ' ';}"
      ],
      "text/plain": [
       "<IPython.core.display.Javascript object>"
      ]
     },
     "metadata": {},
     "output_type": "display_data"
    },
    {
     "data": {
      "application/javascript": [
       "if (typeof Jupyter !== \"undefined\") {require([\"nbextensions/vpython_libraries/glowcomm\"], function(){console.log(\"GLOWCOMM LOADED\");});}else{element.textContent = ' ';}"
      ],
      "text/plain": [
       "<IPython.core.display.Javascript object>"
      ]
     },
     "metadata": {},
     "output_type": "display_data"
    },
    {
     "data": {
      "application/javascript": [
       "if (typeof Jupyter !== \"undefined\") {require([\"nbextensions/vpython_libraries/jquery-ui.custom.min\"], function(){console.log(\"JQUERY LOADED\");});}else{element.textContent = ' ';}"
      ],
      "text/plain": [
       "<IPython.core.display.Javascript object>"
      ]
     },
     "metadata": {},
     "output_type": "display_data"
    }
   ],
   "source": [
    "from vpython import *\n",
    "\n",
    "scene = canvas() # This is needed in Jupyter notebook\n",
    "\n",
    "# parameters for a room\n",
    "roomHeight=10\n",
    "roomWidth=10\n",
    "roomDepth=10\n",
    "roomThickness=0.1\n",
    "mRadius=0.75\n",
    "\n",
    "floor=box(pos=vec(0,-roomHeight/2,0),size=vec(roomWidth,roomThickness,roomDepth))\n",
    "ceiling=box(pos=vec(0,roomHeight/2,0),size=vec(roomWidth,roomThickness,roomDepth))\n",
    "leftwall=box(pos=vec(-roomWidth/2,0,0),size=vec(roomThickness,roomHeight,roomDepth))\n",
    "rightwall=box(pos=vec(roomWidth/2,0,0),size=vec(roomThickness,roomHeight,roomDepth))\n",
    "Backwall=box(pos=vec(0,0,-roomWidth/2),size=vec(roomHeight,roomWidth,roomThickness))\n",
    "marble=sphere(radius=mRadius, color=color.red)\n",
    "DeltaX=0.1\n",
    "DeltaY=0.1\n",
    "DeltaZ=0.1\n",
    "xpos=0\n",
    "ypos=0\n",
    "zpos=0\n",
    "while True:\n",
    "    rate(10)\n",
    "    \n",
    "    xpos=xpos+DeltaX\n",
    "    ypos=ypos+DeltaY\n",
    "    zpos=zpos+DeltaZ\n",
    "    \n",
    "    if (xpos>roomWidth/2-mRadius or xpos<-roomWidth/2+mRadius):\n",
    "        DeltaX=DeltaX*(-1)\n",
    "    if (ypos>roomHeight/2-mRadius or ypos<-roomHeight/2+mRadius):\n",
    "        DeltaY=DeltaY*(-1)\n",
    "    if (zpos>roomDepth/2-mRadius or zpos<-roomDepth/2+mRadius):\n",
    "        DeltaZ=DeltaZ*(-1)\n",
    "\n",
    "        \n",
    "    marble.pos=vec(xpos,ypos,zpos)\n",
    "    "
   ]
  },
  {
   "cell_type": "code",
   "execution_count": null,
   "id": "c8eea739",
   "metadata": {},
   "outputs": [],
   "source": []
  }
 ],
 "metadata": {
  "kernelspec": {
   "display_name": "Python 3",
   "language": "python",
   "name": "python3"
  },
  "language_info": {
   "codemirror_mode": {
    "name": "ipython",
    "version": 3
   },
   "file_extension": ".py",
   "mimetype": "text/x-python",
   "name": "python",
   "nbconvert_exporter": "python",
   "pygments_lexer": "ipython3",
   "version": "3.8.8"
  }
 },
 "nbformat": 4,
 "nbformat_minor": 5
}
